{
 "cells": [
  {
   "cell_type": "code",
   "execution_count": 1,
   "id": "c9a956ef",
   "metadata": {},
   "outputs": [],
   "source": [
    "# Importing the necessary libraries for AI2-THOR to run\n",
    "\n",
    "!pip install --upgrade ai2thor ai2thor-colab &> /dev/null\n",
    "import ai2thor\n",
    "import ai2thor_colab\n",
    "import pickle\n",
    "import os.path\n",
    "import time\n",
    "\n",
    "from ai2thor.controller import Controller\n",
    "from ai2thor_colab import (\n",
    "    plot_frames,\n",
    "    show_objects_table,\n",
    "    side_by_side,\n",
    "    overlay,\n",
    "    show_video\n",
    ")\n",
    "\n",
    "# Class for controlling robot navigation. This is where we will have all the navigation commands.\n",
    "# This has NOT yet got the LLM connected, but merely a set of tools to move the robot and to interact\n",
    "# with the simulation environment.\n",
    "class RobotNavigationControl:\n",
    "    is_DEBUG = False\n",
    "\n",
    "    def start_ai2_thor(self):\n",
    "        ai2thor_colab.start_xserver()\n",
    "        \"AI2-THOR Version: \" + ai2thor.__version__\n",
    "\n",
    "    def initialise_controller(self):\n",
    "        self.controller = Controller(\n",
    "            agentMode=\"default\",\n",
    "            visibilityDistance=1.5,\n",
    "            scene=\"FloorPlan209\",\n",
    "            # image modalities\n",
    "            #renderDepthImage=False,\n",
    "            #renderInstanceSegmentation=False,\n",
    "            # camera properties\n",
    "            width=400,\n",
    "            height=400,\n",
    "            fieldOfView=120,\n",
    "            # step sizes\n",
    "            gridSize=0.25,\n",
    "            snapToGrid=True,\n",
    "            #rotateStepDegrees=15,\n",
    "        )\n",
    "\n",
    "        if (self.is_DEBUG):\n",
    "            event = self.controller.step(action=\"RotateRight\")\n",
    "            metadata = event.metadata\n",
    "            print(event, event.metadata.keys())\n",
    "            print(\"sceneName : \" + self.controller.last_event.metadata[\"sceneName\"])\n",
    "            #print(\"actionReturn : \" + controller.last_event.metadata[\"actionReturn\"])\n",
    "\n",
    "    def rotate_left(self):\n",
    "        #event = controller.step(\"MoveBack\")\n",
    "        #plot_frames(controller.last_event)\n",
    "        frames = []\n",
    "        for _ in range(180 // 5):\n",
    "            frames.append(self.controller.step(action=\"RotateLeft\", degrees=5).frame)\n",
    "            time.sleep(0.05)\n",
    "\n",
    "    def print_visible_objects(self):\n",
    "        objects = self.controller.last_event.metadata['objects']\n",
    "\n",
    "        for obj in objects:\n",
    "            if obj['visible']:\n",
    "                print(obj['objectType'] + \" : \" + str(obj['position']))"
   ]
  },
  {
   "cell_type": "code",
   "execution_count": 2,
   "id": "0be87971",
   "metadata": {},
   "outputs": [
    {
     "data": {
      "text/html": [
       "\n",
       "            <progress value='100' max=\"100\", style='width: 100%'>\n",
       "                100\n",
       "            </progress>\n",
       "        "
      ],
      "text/plain": [
       "<IPython.core.display.HTML object>"
      ]
     },
     "metadata": {},
     "output_type": "display_data"
    },
    {
     "name": "stdout",
     "output_type": "stream",
     "text": [
      "ArmChair : {'x': -4.334003448486328, 'y': 0.001995176076889038, 'z': -3.5289852619171143}\n",
      "CoffeeTable : {'x': -2.4740657806396484, 'y': 0.0015519559383392334, 'z': -2.4894556999206543}\n",
      "Floor : {'x': -4.4715800285339355, 'y': -0.055619120597839355, 'z': -2.5462260246276855}\n",
      "Laptop : {'x': -2.57079815864563, 'y': 0.5791798233985901, 'z': -2.5124337673187256}\n",
      "RemoteControl : {'x': -4.292991638183594, 'y': 0.33039507269859314, 'z': -2.663956880569458}\n",
      "Shelf : {'x': -2.475966215133667, 'y': 0.12455198913812637, 'z': -2.486457347869873}\n",
      "Sofa : {'x': -4.3549981117248535, 'y': 0.00991678237915039, 'z': -2.089966058731079}\n",
      "Vase : {'x': -2.6081905364990234, 'y': 0.579205334186554, 'z': -2.9408369064331055}\n"
     ]
    }
   ],
   "source": [
    "rnc = RobotNavigationControl()\n",
    "rnc.start_ai2_thor()\n",
    "rnc.initialise_controller()\n",
    "rnc.rotate_left()\n",
    "rnc.print_visible_objects()"
   ]
  },
  {
   "cell_type": "code",
   "execution_count": 52,
   "id": "64bc4e89",
   "metadata": {},
   "outputs": [],
   "source": [
    "import time\n",
    "#event = controller.step(\"MoveBack\")\n",
    "#plot_frames(controller.last_event)\n",
    "frames = []\n",
    "for _ in range(180 // 5):\n",
    "    frames.append(controller.step(action=\"RotateLeft\", degrees=5).frame)\n",
    "    time.sleep(0.05)"
   ]
  },
  {
   "cell_type": "code",
   "execution_count": 53,
   "id": "a1b920c2",
   "metadata": {},
   "outputs": [],
   "source": [
    "#show_objects_table(controller.last_event.metadata['objects'])\n",
    "#print(controller.last_event.metadata['objects'])"
   ]
  },
  {
   "cell_type": "code",
   "execution_count": 54,
   "id": "1e97868a",
   "metadata": {},
   "outputs": [
    {
     "name": "stdout",
     "output_type": "stream",
     "text": [
      "ArmChair True {'x': -4.334003448486328, 'y': 0.001995176076889038, 'z': -3.5289852619171143}\n",
      "Floor True {'x': -4.4715800285339355, 'y': -0.055619120597839355, 'z': -2.5462260246276855}\n",
      "Newspaper True {'x': -4.237964630126953, 'y': 0.3441956341266632, 'z': -2.164184093475342}\n",
      "Pillow True {'x': -4.282398700714111, 'y': 0.42073073983192444, 'z': -1.7359906435012817}\n",
      "RemoteControl True {'x': -4.292991638183594, 'y': 0.33039507269859314, 'z': -2.663956880569458}\n",
      "Sofa True {'x': -4.3549981117248535, 'y': 0.00991678237915039, 'z': -2.089966058731079}\n"
     ]
    }
   ],
   "source": [
    "navigate_to = \"Newspaper\" #@param {type: \"string\"}\n",
    "\n",
    "objects = controller.last_event.metadata['objects']\n",
    "\n",
    "for obj in objects:\n",
    "    if obj['visible']:\n",
    "        print(obj['objectType'] + \" \" + str(obj['visible']) + \" \" + str(obj['position']))\n",
    "\n",
    "#from sklearn.utils import shuffle\n",
    "#\n",
    "#kitchens = [\"FloorPlan\" + str(i + 1) for i in range(30)]\n",
    "#living_rooms = [\"FloorPlan\" + str(i + 201) for i in range(30)]\n",
    "#bedrooms = [\"FloorPlan\" + str(i + 301) for i in range(30)]\n",
    "#bathrooms = [\"FloorPlan\" + str(i + 401) for i in range(30)]\n",
    "#\n",
    "#floor_plans = kitchens + living_rooms + bedrooms + bathrooms\n",
    "#labels = [\"kitchen\" for i in range(30)] + [\"living room\" for i in range(30)] + [\"bedroom\" for i in range(30)] + [\"bathroom\" for i in range(30)]\n",
    "#\n",
    "#floor_plans_shuffled,labels_shuffled = shuffle(floor_plans, labels, random_state=1983)\n",
    "#\n",
    "##print(kitchens)\n",
    "##print(living_rooms)\n",
    "##print(bedrooms)\n",
    "##print(bathrooms)\n",
    "##print(features)\n",
    "##print(labels)\n",
    "#print(floor_plans_shuffled)\n",
    "#print(labels_shuffled)"
   ]
  },
  {
   "cell_type": "code",
   "execution_count": null,
   "id": "09ccce89",
   "metadata": {},
   "outputs": [],
   "source": []
  }
 ],
 "metadata": {
  "kernelspec": {
   "display_name": "Python 3 (ipykernel)",
   "language": "python",
   "name": "python3"
  },
  "language_info": {
   "codemirror_mode": {
    "name": "ipython",
    "version": 3
   },
   "file_extension": ".py",
   "mimetype": "text/x-python",
   "name": "python",
   "nbconvert_exporter": "python",
   "pygments_lexer": "ipython3",
   "version": "3.10.9"
  }
 },
 "nbformat": 4,
 "nbformat_minor": 5
}
