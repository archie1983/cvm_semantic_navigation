{
 "cells": [
  {
   "cell_type": "code",
   "execution_count": 15,
   "id": "c9a956ef",
   "metadata": {},
   "outputs": [],
   "source": [
    "# Importing the necessary libraries for AI2-THOR to run\n",
    "\n",
    "!pip install --upgrade ai2thor ai2thor-colab &> /dev/null\n",
    "import ai2thor\n",
    "import ai2thor_colab\n",
    "import pickle\n",
    "import os.path\n",
    "import time\n",
    "from typing import Dict, List\n",
    "\n",
    "from ai2thor.controller import Controller\n",
    "from ai2thor_colab import (\n",
    "    plot_frames,\n",
    "    show_objects_table,\n",
    "    side_by_side,\n",
    "    overlay,\n",
    "    show_video\n",
    ")\n",
    "\n",
    "# Class for controlling robot navigation. This is where we will have all the navigation commands.\n",
    "# This has NOT yet got the LLM connected, but merely a set of tools to move the robot and to interact\n",
    "# with the simulation environment.\n",
    "class RobotNavigationControl:\n",
    "    is_DEBUG = False\n",
    "\n",
    "    # Starts server\n",
    "    def start_ai2_thor(self):\n",
    "        ai2thor_colab.start_xserver()\n",
    "        \"AI2-THOR Version: \" + ai2thor.__version__\n",
    "\n",
    "    # Initialises controller\n",
    "    def initialise_controller(self):\n",
    "        self.controller = Controller(\n",
    "            agentMode=\"default\",\n",
    "            visibilityDistance=1.5,\n",
    "            scene=\"FloorPlan209\",\n",
    "            # image modalities\n",
    "            #renderDepthImage=False,\n",
    "            #renderInstanceSegmentation=False,\n",
    "            # camera properties\n",
    "            width=400,\n",
    "            height=400,\n",
    "            fieldOfView=120,\n",
    "            # step sizes\n",
    "            gridSize=0.25,\n",
    "            snapToGrid=True,\n",
    "            #rotateStepDegrees=15,\n",
    "        )\n",
    "\n",
    "        # If debug is enabled, then print scene name and a few other things.\n",
    "        if (self.is_DEBUG):\n",
    "            event = self.controller.step(action=\"RotateRight\")\n",
    "            metadata = event.metadata\n",
    "            print(event, event.metadata.keys())\n",
    "            print(\"sceneName : \" + self.controller.last_event.metadata[\"sceneName\"])\n",
    "            #print(\"actionReturn : \" + controller.last_event.metadata[\"actionReturn\"])\n",
    "\n",
    "    # Print a table of all objects in the scene\n",
    "    def show_all_objects(self):\n",
    "        show_objects_table(self.controller.last_event.metadata['objects'])\n",
    "        print(self.controller.last_event.metadata['objects'])\n",
    "    \n",
    "    # Rotate left by given number of degrees degrees\n",
    "    def rotate_left(self, deg):\n",
    "        #event = controller.step(\"MoveBack\")\n",
    "        #plot_frames(controller.last_event)\n",
    "        frames = []\n",
    "        for _ in range(deg // 5):\n",
    "            frames.append(self.controller.step(action=\"RotateLeft\", degrees=5).frame)\n",
    "            time.sleep(0.05)        \n",
    "        \n",
    "    # Store visible objects in the self.visible_objects collection and print them out if needed\n",
    "    def get_visible_objects(self, print_objects = False):\n",
    "        objects = self.controller.last_event.metadata['objects']\n",
    "        visible_objects = []\n",
    "\n",
    "        for obj in objects:\n",
    "            if obj['visible']:\n",
    "                if print_objects:\n",
    "                    print(obj['objectType'] + \" : \" + str(obj['position']))\n",
    "                visible_objects.append(obj)\n",
    "                \n",
    "        return visible_objects\n",
    "        \n",
    "    # Navigate to object defined by the name in the input\n",
    "    def navigate_to_object(self, obj_name):\n",
    "        visible_objs = self.get_visible_objects()\n",
    "        \n",
    "        obj_names = sorted([obj[\"objectType\"] for obj in visible_objs])\n",
    "        assert obj_name in obj_names\n",
    "        \n",
    "        navigate_to = next(obj for obj in visible_objs if obj[\"objectType\"] == obj_name)\n",
    "        \n",
    "        #print(navigate_to)\n",
    "        \n",
    "        reachable_positions = self.controller.step(action=\"GetReachablePositions\").metadata[\"actionReturn\"]"
   ]
  },
  {
   "cell_type": "code",
   "execution_count": 14,
   "id": "0be87971",
   "metadata": {},
   "outputs": [
    {
     "data": {
      "text/html": [
       "\n",
       "            <progress value='100' max=\"100\", style='width: 100%'>\n",
       "                100\n",
       "            </progress>\n",
       "        "
      ],
      "text/plain": [
       "<IPython.core.display.HTML object>"
      ]
     },
     "metadata": {},
     "output_type": "display_data"
    },
    {
     "name": "stdout",
     "output_type": "stream",
     "text": [
      "ArmChair : {'x': -4.334003448486328, 'y': 0.001995176076889038, 'z': -3.5289852619171143}\n",
      "CoffeeTable : {'x': -2.4740657806396484, 'y': 0.0015519559383392334, 'z': -2.4894556999206543}\n",
      "Floor : {'x': -4.4715800285339355, 'y': -0.055619120597839355, 'z': -2.5462260246276855}\n",
      "Laptop : {'x': -2.57079815864563, 'y': 0.5791798233985901, 'z': -2.5124337673187256}\n",
      "RemoteControl : {'x': -4.292991638183594, 'y': 0.33039507269859314, 'z': -2.663956880569458}\n",
      "Shelf : {'x': -2.475966215133667, 'y': 0.12455198913812637, 'z': -2.486457347869873}\n",
      "Sofa : {'x': -4.3549981117248535, 'y': 0.00991678237915039, 'z': -2.089966058731079}\n",
      "Vase : {'x': -2.6081905364990234, 'y': 0.579205334186554, 'z': -2.9408369064331055}\n",
      "{'name': 'Vase_99a3f189', 'position': {'x': -2.6081905364990234, 'y': 0.579205334186554, 'z': -2.9408369064331055}, 'rotation': {'x': 359.9898986816406, 'y': 359.43280029296875, 'z': -0.0017173961969092488}, 'visible': True, 'isInteractable': True, 'receptacle': False, 'toggleable': False, 'isToggled': False, 'breakable': True, 'isBroken': False, 'canFillWithLiquid': False, 'isFilledWithLiquid': False, 'fillLiquid': None, 'dirtyable': False, 'isDirty': False, 'canBeUsedUp': False, 'isUsedUp': False, 'cookable': False, 'isCooked': False, 'temperature': 'RoomTemp', 'isHeatSource': False, 'isColdSource': False, 'sliceable': False, 'isSliced': False, 'openable': False, 'isOpen': False, 'openness': 0.0, 'pickupable': True, 'isPickedUp': False, 'moveable': False, 'mass': 1.0, 'salientMaterials': ['Metal'], 'receptacleObjectIds': None, 'distance': 1.3360942602157593, 'objectType': 'Vase', 'objectId': 'Vase|-02.61|+00.58|-02.94', 'assetId': 'Vase_Flat_5', 'parentReceptacles': ['CoffeeTable|-02.47|+00.00|-02.49'], 'controlledObjects': None, 'isMoving': False, 'axisAlignedBoundingBox': {'cornerPoints': [[-2.532721996307373, 0.6493492126464844, -2.8650879859924316], [-2.532721996307373, 0.6493492126464844, -3.0160727500915527], [-2.532721996307373, 0.5791423320770264, -2.8650879859924316], [-2.532721996307373, 0.5791423320770264, -3.0160727500915527], [-2.6837072372436523, 0.6493492126464844, -2.8650879859924316], [-2.6837072372436523, 0.6493492126464844, -3.0160727500915527], [-2.6837072372436523, 0.5791423320770264, -2.8650879859924316], [-2.6837072372436523, 0.5791423320770264, -3.0160727500915527]], 'center': {'x': -2.6082146167755127, 'y': 0.6142457723617554, 'z': -2.940580368041992}, 'size': {'x': 0.1509852409362793, 'y': 0.07020688056945801, 'z': 0.1509847640991211}}, 'objectOrientedBoundingBox': {'cornerPoints': [[-2.533449172973633, 0.5792407989501953, -2.864335060119629], [-2.6844348907470703, 0.5791348218917847, -2.865828275680542], [-2.682941436767578, 0.5791005492210388, -3.016813039779663], [-2.5319559574127197, 0.5792064666748047, -3.015319585800171], [-2.5334982872009277, 0.6494092345237732, -2.864351511001587], [-2.6844840049743652, 0.6493032574653625, -2.8658447265625], [-2.682990550994873, 0.6492689847946167, -3.016829490661621], [-2.5320050716400146, 0.6493749022483826, -3.015336036682129]]}}\n"
     ]
    }
   ],
   "source": [
    "rnc = RobotNavigationControl()\n",
    "rnc.start_ai2_thor()\n",
    "rnc.initialise_controller()\n",
    "rnc.rotate_left(180)\n",
    "rnc.get_visible_objects(True)\n",
    "rnc.navigate_to_object(\"Vase\")\n"
   ]
  },
  {
   "cell_type": "code",
   "execution_count": null,
   "id": "8913f100",
   "metadata": {},
   "outputs": [],
   "source": []
  }
 ],
 "metadata": {
  "kernelspec": {
   "display_name": "Python 3 (ipykernel)",
   "language": "python",
   "name": "python3"
  },
  "language_info": {
   "codemirror_mode": {
    "name": "ipython",
    "version": 3
   },
   "file_extension": ".py",
   "mimetype": "text/x-python",
   "name": "python",
   "nbconvert_exporter": "python",
   "pygments_lexer": "ipython3",
   "version": "3.10.9"
  }
 },
 "nbformat": 4,
 "nbformat_minor": 5
}
